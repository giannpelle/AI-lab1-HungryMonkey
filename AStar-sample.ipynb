{
 "cells": [
  {
   "cell_type": "code",
   "execution_count": 1,
   "metadata": {},
   "outputs": [
    {
     "name": "stdout",
     "output_type": "stream",
     "text": [
      "AStarPlayer says: Episode starting for player AStarPlayer\n",
      "AStarPlayer says: World size: 5x5\n",
      "AStarPlayer says: Eater agent in Coordinate(x=1, y=4)\n",
      "AStarPlayer says: Food in [Coordinate(x=0, y=0)]\n",
      "AStarPlayer says: Blocks in [(0, 1), (0, 2), (0, 3), (4, 4)]\n",
      "AStarPlayer says: Available actions: {'N': (0, 1), 'S': (0, -1), 'E': (1, 0), 'W': (-1, 0)}\n",
      "\n",
      "****************************************************************************************************\n",
      "The counter of nodes explored is 7\n",
      "The action sequence to arrive at the banana is \n",
      "[<Actions.S: (0, -1)>, <Actions.S: (0, -1)>, <Actions.S: (0, -1)>, <Actions.S: (0, -1)>, <Actions.W: (-1, 0)>]\n",
      "\n",
      "The total reward of the search is -4\n",
      "****************************************************************************************************\n",
      "\n",
      "┌──────────┐\n",
      "│．🐒．．██│\n",
      "│██．．．．│\n",
      "│██．．．．│\n",
      "│██．．．．│\n",
      "│🍌．．．．│\n",
      "└──────────┘\n",
      "Step 0: agent Eater_828140a6 executing S -> reward -1\n",
      "AStarPlayer says: Moved to Coordinate(x=1, y=3) with reward -1\n",
      "┌──────────┐\n",
      "│．．．．██│\n",
      "│██🐒．．．│\n",
      "│██．．．．│\n",
      "│██．．．．│\n",
      "│🍌．．．．│\n",
      "└──────────┘\n",
      "Step 1: agent Eater_828140a6 executing S -> reward -1\n",
      "AStarPlayer says: Moved to Coordinate(x=1, y=2) with reward -1\n",
      "┌──────────┐\n",
      "│．．．．██│\n",
      "│██．．．．│\n",
      "│██🐒．．．│\n",
      "│██．．．．│\n",
      "│🍌．．．．│\n",
      "└──────────┘\n",
      "Step 2: agent Eater_828140a6 executing S -> reward -1\n",
      "AStarPlayer says: Moved to Coordinate(x=1, y=1) with reward -1\n",
      "┌──────────┐\n",
      "│．．．．██│\n",
      "│██．．．．│\n",
      "│██．．．．│\n",
      "│██🐒．．．│\n",
      "│🍌．．．．│\n",
      "└──────────┘\n",
      "Step 3: agent Eater_828140a6 executing S -> reward -1\n",
      "AStarPlayer says: Moved to Coordinate(x=1, y=0) with reward -1\n",
      "┌──────────┐\n",
      "│．．．．██│\n",
      "│██．．．．│\n",
      "│██．．．．│\n",
      "│██．．．．│\n",
      "│🍌🐒．．．│\n",
      "└──────────┘\n",
      "Step 4: agent Eater_828140a6 executing W -> reward 9\n",
      "AStarPlayer says: Moved to Coordinate(x=0, y=0) with reward 9\n",
      "Episode terminated by maximum number of steps (5).\n",
      "AStarPlayer says: Episode completed, my reward is 5\n",
      "┌──────────┐\n",
      "│．．．．██│\n",
      "│██．．．．│\n",
      "│██．．．．│\n",
      "│██．．．．│\n",
      "│🐒．．．．│\n",
      "└──────────┘\n",
      "Episode terminated with a reward of 5 for agent Eater_828140a6\n"
     ]
    }
   ],
   "source": [
    "!gridrunner --world EaterWorld --entry hungry_monkey_AStar:AStarPlayer --horizon 5 data/eater-world_0.json"
   ]
  },
  {
   "cell_type": "code",
   "execution_count": null,
   "metadata": {},
   "outputs": [],
   "source": [
    "!gridrunner --world EaterWorld --entry hungry_monkey_AStar:AStarPlayer --horizon 10 data/eater-world_1.json"
   ]
  },
  {
   "cell_type": "code",
   "execution_count": null,
   "metadata": {},
   "outputs": [],
   "source": [
    "!gridrunner --world EaterWorld --entry hungry_monkey_AStar:AStarPlayer --horizon 15 data/eater-world_2.json"
   ]
  },
  {
   "cell_type": "code",
   "execution_count": null,
   "metadata": {},
   "outputs": [],
   "source": [
    "!gridrunner --world EaterWorld --entry hungry_monkey_AStar:AStarPlayer --horizon 50 data/eater-world_3.json"
   ]
  },
  {
   "cell_type": "code",
   "execution_count": null,
   "metadata": {},
   "outputs": [],
   "source": [
    "!gridrunner --world EaterWorld --entry hungry_monkey_AStar:AStarPlayer --horizon 50 data/eater-world_4.json"
   ]
  },
  {
   "cell_type": "code",
   "execution_count": null,
   "metadata": {},
   "outputs": [],
   "source": [
    "!gridrunner --world EaterWorld --entry hungry_monkey_AStar:AStarPlayer --horizon 200 data/eater-world_5.json"
   ]
  }
 ],
 "metadata": {
  "kernelspec": {
   "display_name": "Python 3",
   "language": "python",
   "name": "python3"
  },
  "language_info": {
   "codemirror_mode": {
    "name": "ipython",
    "version": 3
   },
   "file_extension": ".py",
   "mimetype": "text/x-python",
   "name": "python",
   "nbconvert_exporter": "python",
   "pygments_lexer": "ipython3",
   "version": "3.8.6"
  }
 },
 "nbformat": 4,
 "nbformat_minor": 4
}
