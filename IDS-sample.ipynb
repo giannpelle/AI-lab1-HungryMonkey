{
 "cells": [
  {
   "cell_type": "code",
   "execution_count": 5,
   "metadata": {},
   "outputs": [
    {
     "name": "stdout",
     "output_type": "stream",
     "text": [
      "IDPlayer says: Episode starting for player IDPlayer\n",
      "IDPlayer says: World size: 5x5\n",
      "IDPlayer says: Eater agent in Coordinate(x=1, y=4)\n",
      "IDPlayer says: Food in [Coordinate(x=0, y=0)]\n",
      "IDPlayer says: Blocks in [(0, 1), (0, 2), (0, 3), (4, 4)]\n",
      "IDPlayer says: Available actions: {'N': (0, 1), 'S': (0, -1), 'E': (1, 0), 'W': (-1, 0)}\n",
      "\n",
      "---------------------------------------- Limit Depth (0) ----------------------------------------\n",
      "nodes explored: 1\n",
      "---------------------------------------- Limit Depth (1) ----------------------------------------\n",
      "nodes explored: 4\n",
      "---------------------------------------- Limit Depth (2) ----------------------------------------\n",
      "nodes explored: 11\n",
      "---------------------------------------- Limit Depth (3) ----------------------------------------\n",
      "nodes explored: 26\n",
      "---------------------------------------- Limit Depth (4) ----------------------------------------\n",
      "nodes explored: 58\n",
      "---------------------------------------- Limit Depth (5) ----------------------------------------\n",
      "nodes explored: 15\n",
      "\n",
      "****************************************************************************************************\n",
      "The counter of nodes explored is 115 (counting from LIMIT = 0)\n",
      "The action sequence to arrive at the banana is \n",
      "[<Actions.S: (0, -1)>, <Actions.S: (0, -1)>, <Actions.S: (0, -1)>, <Actions.S: (0, -1)>, <Actions.W: (-1, 0)>]\n",
      "\n",
      "The total reward of the search is 5\n",
      "****************************************************************************************************\n",
      "\n",
      "┌──────────┐\n",
      "│．🐒．．██│\n",
      "│██．．．．│\n",
      "│██．．．．│\n",
      "│██．．．．│\n",
      "│🍌．．．．│\n",
      "└──────────┘\n",
      "Step 0: agent Eater_ab2940a6 executing S -> reward -1\n",
      "IDPlayer says: Moved to Coordinate(x=1, y=3) with reward -1\n",
      "┌──────────┐\n",
      "│．．．．██│\n",
      "│██🐒．．．│\n",
      "│██．．．．│\n",
      "│██．．．．│\n",
      "│🍌．．．．│\n",
      "└──────────┘\n",
      "Step 1: agent Eater_ab2940a6 executing S -> reward -1\n",
      "IDPlayer says: Moved to Coordinate(x=1, y=2) with reward -1\n",
      "┌──────────┐\n",
      "│．．．．██│\n",
      "│██．．．．│\n",
      "│██🐒．．．│\n",
      "│██．．．．│\n",
      "│🍌．．．．│\n",
      "└──────────┘\n",
      "Step 2: agent Eater_ab2940a6 executing S -> reward -1\n",
      "IDPlayer says: Moved to Coordinate(x=1, y=1) with reward -1\n",
      "┌──────────┐\n",
      "│．．．．██│\n",
      "│██．．．．│\n",
      "│██．．．．│\n",
      "│██🐒．．．│\n",
      "│🍌．．．．│\n",
      "└──────────┘\n",
      "Step 3: agent Eater_ab2940a6 executing S -> reward -1\n",
      "IDPlayer says: Moved to Coordinate(x=1, y=0) with reward -1\n",
      "┌──────────┐\n",
      "│．．．．██│\n",
      "│██．．．．│\n",
      "│██．．．．│\n",
      "│██．．．．│\n",
      "│🍌🐒．．．│\n",
      "└──────────┘\n",
      "Step 4: agent Eater_ab2940a6 executing W -> reward 9\n",
      "IDPlayer says: Moved to Coordinate(x=0, y=0) with reward 9\n",
      "Episode terminated by maximum number of steps (5).\n",
      "IDPlayer says: Episode completed, my reward is 5\n",
      "┌──────────┐\n",
      "│．．．．██│\n",
      "│██．．．．│\n",
      "│██．．．．│\n",
      "│██．．．．│\n",
      "│🐒．．．．│\n",
      "└──────────┘\n",
      "Episode terminated with a reward of 5 for agent Eater_ab2940a6\n"
     ]
    }
   ],
   "source": [
    "!gridrunner --world EaterWorld --entry hungry_monkey_IDS:IDPlayer --horizon 5 data/eater-world_0.json"
   ]
  },
  {
   "cell_type": "code",
   "execution_count": null,
   "metadata": {},
   "outputs": [],
   "source": [
    "!gridrunner --world EaterWorld --entry hungry_monkey_IDS:IDPlayer --horizon 10 data/eater-world_1.json"
   ]
  },
  {
   "cell_type": "code",
   "execution_count": null,
   "metadata": {},
   "outputs": [],
   "source": [
    "!gridrunner --world EaterWorld --entry hungry_monkey_IDS:IDPlayer --horizon 15 data/eater-world_2.json"
   ]
  },
  {
   "cell_type": "code",
   "execution_count": null,
   "metadata": {},
   "outputs": [],
   "source": [
    "!gridrunner --world EaterWorld --entry hungry_monkey_IDS:IDPlayer --horizon 50 data/eater-world_3.json"
   ]
  },
  {
   "cell_type": "code",
   "execution_count": null,
   "metadata": {},
   "outputs": [],
   "source": [
    "!gridrunner --world EaterWorld --entry hungry_monkey_IDS:IDPlayer --horizon 100 data/eater-world_4.json"
   ]
  },
  {
   "cell_type": "code",
   "execution_count": null,
   "metadata": {},
   "outputs": [],
   "source": [
    "!gridrunner --world EaterWorld --entry hungry_monkey_IDS:IDPlayer --horizon 200 data/eater-world_5.json"
   ]
  }
 ],
 "metadata": {
  "kernelspec": {
   "display_name": "Python 3",
   "language": "python",
   "name": "python3"
  },
  "language_info": {
   "codemirror_mode": {
    "name": "ipython",
    "version": 3
   },
   "file_extension": ".py",
   "mimetype": "text/x-python",
   "name": "python",
   "nbconvert_exporter": "python",
   "pygments_lexer": "ipython3",
   "version": "3.8.6"
  }
 },
 "nbformat": 4,
 "nbformat_minor": 4
}
